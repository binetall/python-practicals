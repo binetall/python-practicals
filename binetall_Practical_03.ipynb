{
 "cells": [
  {
   "cell_type": "markdown",
   "metadata": {
    "id": "12_fdbLn8p4A"
   },
   "source": [
    "\n",
    "\n",
    "    \n",
    "#    <center> <b> <span style=\"color:orange;\" >  `Python for Scientific Computing and Software Engineering ` </span> </b></center>\n",
    "\n",
    "\n",
    "## <center> <b> <span style=\"color:orange;\"> An Initiation to Programming using Python (Init2Py) </span> </b></center>\n",
    "\n",
    "### <center> <b> <span style=\"color:blue;\"> Travaux Pratiques: Objets itérables ou conteneurs</span> </b></center>\n"
   ]
  },
  {
   "cell_type": "markdown",
   "metadata": {
    "id": "E_ZB23H68p4D"
   },
   "source": [
    "###  <center> <b> <span style=\"color:blue;\"> Listes </span> </b></center>"
   ]
  },
  {
   "cell_type": "markdown",
   "metadata": {
    "id": "H0cIcjGk8p4G"
   },
   "source": [
    "#### **Exercice 00:** \n",
    ">**Déclarer une liste vide.**"
   ]
  },
  {
   "cell_type": "code",
   "execution_count": 1,
   "metadata": {
    "id": "45QEMilz8p4I"
   },
   "outputs": [
    {
     "name": "stdout",
     "output_type": "stream",
     "text": [
      "[]\n"
     ]
    }
   ],
   "source": [
    "x=[]\n",
    "print(x)"
   ]
  },
  {
   "cell_type": "markdown",
   "metadata": {
    "id": "zZ0XnwpB8p4J"
   },
   "source": [
    "#### **Exercice 01:** \n",
    ">**Déclarer une liste de plus de 5 éléments.**"
   ]
  },
  {
   "cell_type": "code",
   "execution_count": 111,
   "metadata": {
    "id": "HV32hLfA8p4L"
   },
   "outputs": [
    {
     "name": "stdout",
     "output_type": "stream",
     "text": [
      "[['a', 'b'], ['d', 'e'], ['g', 'h'], ['j', 'k'], ['m', 'n']]\n"
     ]
    }
   ],
   "source": [
    "x=[['a','b'],['d','e'],['g','h'],['j','k'],['m','n']]\n",
    "print(x)"
   ]
  },
  {
   "cell_type": "markdown",
   "metadata": {
    "id": "tJpy6kNz8p4M"
   },
   "source": [
    "#### **Exercice 02:** \n",
    ">**Trouver la longueur de votre liste.**"
   ]
  },
  {
   "cell_type": "code",
   "execution_count": 16,
   "metadata": {
    "id": "627A_RNw8p4O"
   },
   "outputs": [
    {
     "data": {
      "text/plain": [
       "5"
      ]
     },
     "execution_count": 16,
     "metadata": {},
     "output_type": "execute_result"
    }
   ],
   "source": [
    "len(x)"
   ]
  },
  {
   "cell_type": "markdown",
   "metadata": {
    "id": "unFrwT5t8p4Q"
   },
   "source": [
    "#### **Exercice 03:** \n",
    ">**Obtenez le premier élément, l'élément central et le dernier élément de la liste.**\n",
    "\n"
   ]
  },
  {
   "cell_type": "code",
   "execution_count": 18,
   "metadata": {
    "id": "MUuc1gaQ8p4R"
   },
   "outputs": [
    {
     "name": "stdout",
     "output_type": "stream",
     "text": [
      "['a', 'b']\n",
      "[3]\n",
      "[5]\n"
     ]
    }
   ],
   "source": [
    "print(x[0])\n",
    "print([3])\n",
    "print([5])"
   ]
  },
  {
   "cell_type": "markdown",
   "metadata": {
    "id": "4Rqp8q0L8p4R"
   },
   "source": [
    "#### **Exercice 04:** \n",
    ">**Déclarez une liste appelée mixed_data_types, mettez votre (nom, âge, taille, état civil, adresse).**"
   ]
  },
  {
   "cell_type": "code",
   "execution_count": 26,
   "metadata": {
    "id": "EoZPW2UH8p4S"
   },
   "outputs": [
    {
     "name": "stdout",
     "output_type": "stream",
     "text": [
      "['rao', 'Bamba', 51, 1.8, 'senegalais', 'rao', 'Bamba', 51, 1.8, 'celibataire', 'rao']\n"
     ]
    }
   ],
   "source": [
    "mixed_data_type=[]\n",
    "nomixed_data_type.append('Bamba')\n",
    "nomixed_data_type.append(51)\n",
    "nomixed_data_type.append(1.80)\n",
    "nomixed_data_type.append('celibataire')\n",
    "nomixed_data_type.append('rao')\n",
    "print(nomixed_data_type)"
   ]
  },
  {
   "cell_type": "markdown",
   "metadata": {
    "id": "OPYSNV1l8p4T"
   },
   "source": [
    "#### **Exercice 05:** \n",
    "\n",
    "    1. Déclarez une variable liste appelée it_companies et attribuez les valeurs initiales Facebook, Google, Microsoft, Apple, IBM, Oracle et Amazon.\n",
    "\n",
    "    2. Imprimez la liste à l'aide de print()\n",
    "\n",
    "    3. Imprimez le nombre d'entreprises dans la liste\n",
    "\n",
    "    4. Imprimez la première, la moyenne et la dernière entreprise\n",
    "\n",
    "    5. Imprimez la liste après avoir modifié l'une des entreprises.\n",
    "\n",
    "    6. Ajout d'une entreprise informatique à it_companies\n",
    "\n",
    "    7. Insérer une entreprise informatique au milieu de la liste des entreprises\n",
    "\n",
    "    8. Changez le nom d'une des it_companies en majuscule (sauf IBM !)\n",
    "\n",
    "    9. Joignez les it_companies avec une chaîne '# ; '.\n",
    "\n",
    "    10. Vérifier si une certaine entreprise existe dans la liste it_companies.\n",
    "\n",
    "    11. Trier la liste en utilisant la méthode sort()\n",
    "\n",
    "    12. Inversez la liste par ordre décroissant à l'aide de la méthode reverse().\n",
    "\n",
    "    13. Supprimez les 3 premières entreprises de la liste.\n",
    "\n",
    "    14. Supprimez les 3 dernières entreprises de la liste.\n",
    "\n",
    "    15. Supprimez la ou les entreprises informatiques du milieu de la liste.\n",
    "\n",
    "    16. Supprimez la première entreprise informatique de la liste\n",
    "\n",
    "    17. Supprimez la ou les entreprises informatiques du milieu de la liste.\n",
    "\n",
    "    18. Retirer la dernière entreprise informatique de la liste\n",
    "\n",
    "    19. Supprimez toutes les entreprises informatiques de la liste\n",
    "\n",
    "    20. Détruire la liste des entreprises informatiques"
   ]
  },
  {
   "cell_type": "code",
   "execution_count": 16,
   "metadata": {
    "id": "4M_XODba8p4V"
   },
   "outputs": [
    {
     "name": "stdout",
     "output_type": "stream",
     "text": [
      "['Facebook', ' Google', ' Microsoft', ' Apple', ' IBM', ' Oracle', 'Amazon']\n",
      "7\n",
      "Facebook\n",
      " Apple\n",
      "Amazon\n",
      "message\n",
      "guaydel\n",
      " APPLE\n",
      "Facebook# ;  Google# ;  Microsoft# ; instagram# ;  Apple# ; mesage# ;  Oracle# ; Amazon# ; guaydel\n",
      "[' Apple', ' Google', ' Microsoft', ' Oracle', 'Amazon', 'Facebook', 'guaydel', 'instagram', 'mesage']\n",
      "['mesage', 'instagram', 'guaydel', 'Facebook', 'Amazon', ' Oracle', ' Microsoft', ' Google', ' Apple']\n",
      "['Facebook', 'Amazon', ' Oracle', ' Microsoft', ' Google', ' Apple']\n",
      "[' Microsoft', ' Google', ' Apple']\n",
      "[' Microsoft', ' Apple']\n",
      "[' Apple']\n",
      "[]\n"
     ]
    }
   ],
   "source": [
    "it_companies=['Facebook',' Google',' Microsoft',' Apple',' IBM',' Oracle', 'Amazon']\n",
    "print(it_companies)\n",
    "print(len(it_companies))\n",
    "print(it_companies[0])\n",
    "print(it_companies[3])\n",
    "print(it_companies[6])\n",
    "it_companies[4]='mesage'\n",
    "print('message')\n",
    "it_companies.append('guaydel')\n",
    "print('guaydel')\n",
    "it_companies.insert(3,'instagram')\n",
    "x=it_companies[4].upper()\n",
    "print(x)\n",
    "y='# ; '.join(it_companies)\n",
    "print(y)\n",
    "any(\"bin\" in s for s in it_companies )\n",
    "it_companies.sort()\n",
    "print(it_companies)\n",
    "it_companies.reverse()\n",
    "print(it_companies)\n",
    "del it_companies[0:3]\n",
    "print(it_companies)\n",
    "del it_companies[:-3]\n",
    "print(it_companies)\n",
    "del it_companies[1:2]\n",
    "print(it_companies)\n",
    "del it_companies[:1]\n",
    "print(it_companies)\n",
    "del it_companies[:1]\n",
    "print(it_companies)"
   ]
  },
  {
   "cell_type": "markdown",
   "metadata": {
    "id": "AfauolZA8p4V"
   },
   "source": [
    "#### **Exercice 06:** \n",
    "**Joindre les listes suivantes :**\n",
    "      \n",
    "        front_end = ['HTML', 'CSS', 'JS', 'React', 'Redux']  \n",
    "        back_end = ['Node','Express', 'MongoDB']"
   ]
  },
  {
   "cell_type": "code",
   "execution_count": 1,
   "metadata": {
    "collapsed": true,
    "id": "6V8OXDSW8p4W"
   },
   "outputs": [],
   "source": [
    "front_end = ['HTML', 'CSS', 'JS', 'React', 'Redux']  \n",
    "back_end = ['Node','Express', 'MongoDB']\n",
    "front_end.extend(back_end)     "
   ]
  },
  {
   "cell_type": "markdown",
   "metadata": {},
   "source": []
  },
  {
   "cell_type": "markdown",
   "metadata": {
    "id": "kASFM1bh8p4X"
   },
   "source": [
    "#### **Exercice 07:** \n",
    "Voici une liste de 10 âges d'étudiants :\n",
    "\n",
    "         ages = [19, 22, 19, 24, 20, 25, 26, 24, 25, 24]\n",
    "         \n",
    " \n",
    "    1. Trier la liste et trouver l'âge minimum et maximum.\n",
    "    2. Ajoutez à nouveau l'âge minimum et l'âge maximum à la liste.\n",
    "    3. Trouvez l'âge médian (un élément du milieu ou deux éléments du milieu divisés par deux).\n",
    "    4. Trouvez l'âge moyen (somme de tous les éléments divisée par leur nombre).\n",
    "    4. Trouver l'intervalle des âges (max moins min)\n",
    "    5. Comparez les valeurs de (min - moyenne) et (max - moyenne) en utilisant la méthode abs().\n",
    "        "
   ]
  },
  {
   "cell_type": "code",
   "execution_count": 7,
   "metadata": {
    "id": "TEtbXitA8p4h"
   },
   "outputs": [
    {
     "name": "stdout",
     "output_type": "stream",
     "text": [
      "l'age maximal est  26 et l'age minimal est  19\n",
      "24\n",
      "22.8\n",
      "l'intervalle des ages est  7\n",
      "(min - moyenne est) >= (ages)-ageMoyen) \n"
     ]
    }
   ],
   "source": [
    "ages = [19, 22, 19, 24, 20, 25, 26, 24, 25, 24]\n",
    "ageTri=sorted(ages)\n",
    "ageTri\n",
    "print(\"l'age maximal est \",ageTri[-1],\"et l'age minimal est \",ageTri[0])\n",
    "median=ageTri[5]\n",
    "print(median)\n",
    "som=0\n",
    "for i in range(0,10):\n",
    "    som+=ages[i]\n",
    "ageMoyen=som/len(ages)\n",
    "print(ageMoyen)\n",
    "intevlMoyen=max(ages)-min(ages)\n",
    "print(\"l'intervalle des ages est \",intevlMoyen)\n",
    "a1=abs(min(ages)-ageMoyen)\n",
    "a2=abs(max(ages)-ageMoyen)\n",
    "if a1<a2:\n",
    "    print(\"min - moyenne est < ages)-ageMoyen \")\n",
    "else:\n",
    "    print(\"(min - moyenne est) >= (ages)-ageMoyen) \")\n",
    "        "
   ]
  },
  {
   "cell_type": "markdown",
   "metadata": {
    "id": "bF7FI4iT8p4i"
   },
   "source": [
    "###  <center> <b> <span style=\"color:blue;\"> Dictionnaires </span> </b></center>"
   ]
  },
  {
   "cell_type": "markdown",
   "metadata": {
    "id": "VzcSJMf18p4j"
   },
   "source": [
    "\n",
    "1. Créer un dictionnaire vide appelé `dog`\n",
    "2. Ajoute le nom, la couleur, la race, les pattes, l'âge au dictionnaire dog.\n",
    "3. Créez un dictionnaire student et ajoutez le prénom, le nom, le sexe, l'âge, l'état civil, les compétences, le pays, la ville et l'adresse comme clés pour le dictionnaire.\n",
    "4. Obtenez la longueur du dictionnaire student\n",
    "5. Récupérez la valeur des compétences et vérifiez le type de données, il doit s'agir d'une liste.\n",
    "6. Modifiez les valeurs des compétences en ajoutant une ou deux compétences.\n",
    "7. Obtenez les clés du dictionnaire sous forme de liste\n",
    "8. Obtenir les valeurs du dictionnaire sous forme de liste\n",
    "9. Transformer le dictionnaire en une liste de tuples en utilisant la méthode items()\n",
    "10. Supprimer un des éléments du dictionnaire\n",
    "11. Supprimer un des dictionnaires\n"
   ]
  },
  {
   "cell_type": "code",
   "execution_count": 42,
   "metadata": {},
   "outputs": [
    {
     "name": "stdout",
     "output_type": "stream",
     "text": [
      "{'prenom': 'pape', 'nom': 'lo', 'sexe': 'feminin', 'age': 30, 'état civil': 'marier', 'competence': ['enseignant', 'math'], 'pays': 'senegal', 'ville': 'bambey', 'adresse': 'waxal diam'}\n",
      "['enseignant', 'math']\n",
      "dict_items([('prenom', 'pape'), ('nom', 'lo'), ('sexe', 'feminin'), ('age', 30), ('état civil', 'marier'), ('competence', ['enseignant', 'math', 'fort', 'intelligent']), ('pays', 'senegal'), ('ville', 'bambey'), ('adresse', 'waxal diam')])\n"
     ]
    }
   ],
   "source": [
    "dog= {}\n",
    "dog[1]='bine'\n",
    "dog[2]='bleu'\n",
    "dog[3]='noire'\n",
    "dog[4]='deux'\n",
    "dog[5]=50\n",
    "student={}\n",
    "student['prenom']='pape'\n",
    "student['nom']='lo'\n",
    "student['sexe']='feminin'\n",
    "student['age']=30\n",
    "student['état civil']='marier'\n",
    "student['competence']=['enseignant','math']\n",
    "student['pays']='senegal'\n",
    "student['ville']='bambey'\n",
    "student['adresse']='waxal diam'\n",
    "len(student)\n",
    "print(student)\n",
    "print(student['competence'])\n",
    "type(student['competence'])\n",
    "student['competence'].append('fort')\n",
    "student['competence'].append('intelligent')\n",
    "student\n",
    "student.keys()\n",
    "print(student.items())\n",
    "student.pop(('prenom'))\n",
    "student\n",
    "del student"
   ]
  },
  {
   "cell_type": "markdown",
   "metadata": {
    "id": "ugc1Itzb8p4l"
   },
   "source": [
    "<center> <b> <span style=\"color:orange;\"> 🎉 FÉLICITATIONS ! / CONGRATULATIONS !🎉 </span> </b></center>"
   ]
  },
  {
   "cell_type": "code",
   "execution_count": null,
   "metadata": {},
   "outputs": [],
   "source": []
  }
 ],
 "metadata": {
  "colab": {
   "name": "Exercices_02_Objets-itérables-ou-conteneurs.ipynb",
   "provenance": []
  },
  "kernelspec": {
   "display_name": "Python 3",
   "language": "python",
   "name": "python3"
  },
  "language_info": {
   "codemirror_mode": {
    "name": "ipython",
    "version": 3
   },
   "file_extension": ".py",
   "mimetype": "text/x-python",
   "name": "python",
   "nbconvert_exporter": "python",
   "pygments_lexer": "ipython3",
   "version": "3.7.3"
  }
 },
 "nbformat": 4,
 "nbformat_minor": 1
}
